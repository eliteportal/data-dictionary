{
 "cells": [
  {
   "cell_type": "code",
   "execution_count": 1,
   "metadata": {},
   "outputs": [],
   "source": [
    "import os\n",
    "import pandas as pd\n",
    "import numpy as np\n",
    "\n",
    "from utils import utils"
   ]
  },
  {
   "cell_type": "code",
   "execution_count": 3,
   "metadata": {},
   "outputs": [],
   "source": [
    "data_model = utils.load_and_backup_dm(\"../EL.data.model.csv\", \"../backups/\")"
   ]
  },
  {
   "cell_type": "code",
   "execution_count": null,
   "metadata": {},
   "outputs": [],
   "source": [
    "# Updates 2023-09-21\n",
    "dm.loc[dm[\"Attribute\"] == \"TRUE\", \"DependsOn\"] = np.nan\n",
    "# clean up source column\n",
    "dm[\"Source\"] = (\n",
    "    dm[\"Source\"]\n",
    "    .fillna(\"\")\n",
    "    .str.split(\",\")\n",
    "    .apply(lambda x: \",\".join(sorted(np.unique(x))))\n",
    ")\n",
    "dm[\"Valid Values\"] = (\n",
    "    dm[\"Valid Values\"]\n",
    "    .fillna(\"\")\n",
    "    .str.split(\",\")\n",
    "    .apply(lambda x: \",\".join([y.strip() for y in x]))\n",
    ")\n",
    "dm[\"DependsOn\"] = (\n",
    "    dm[\"DependsOn\"]\n",
    "    .fillna(\"\")\n",
    "    .str.split(\",\")\n",
    "    .apply(lambda x: \",\".join([y.strip() for y in x]))\n",
    ")\n",
    "dm.to_csv(\"../EL.data.model.csv\")"
   ]
  },
  {
   "cell_type": "code",
   "execution_count": 15,
   "metadata": {},
   "outputs": [],
   "source": [
    "import frontmatter\n",
    "import re\n",
    "from mdutils import fileutils\n",
    "\n",
    "data_model.rename(\n",
    "    {\"Attribute\": \"Key\", \"Description\": \"Key Description\"}, axis=1, inplace=True\n",
    ")\n",
    "\n",
    "data_model = data_model[[\"Key\", \"Key Description\", \"Type\", \"Source\", \"Module\"]]\n",
    "\n",
    "data_model.to_csv(\"../_data/FullTable.csv\", index=False)\n",
    "\n",
    "post = frontmatter.load(\"../template_page_template.md\")\n",
    "post.metadata[\"title\"] = re.sub(\"([A-Z]+)|_\", r\" \\1\", \"FullTable\").title()\n",
    "post.metadata[\"permalink\"] = f'docs/{post.metadata[\"title\"]}.html'\n",
    "post.metadata[\"parent\"] = \"Full Table\"\n",
    "post.content = (\n",
    "    \"{% assign mydata=site.data.\"\n",
    "    + \"fullTable\"\n",
    "    + \" %} \\n{: .note-title } \\n\"\n",
    "    + f\">{post.metadata['title']}\\n\"\n",
    "    + \">\\n\"\n",
    "    + f\">Full Table of Terms ELITE portal\\n\"\n",
    "    + post.content\n",
    ")\n",
    "\n",
    "# create directory for the moduel if not exist\n",
    "if not os.path.exists(f\"../docs/Full Table/\"):\n",
    "    os.mkdir(f\"../docs/Full Table/\")\n",
    "\n",
    "    # create a module page\n",
    "    module = fileutils.MarkDownFile(f\"../docs/FullTable/FullTable\")\n",
    "\n",
    "    module.append_end(\n",
    "        f\"--- \\nlayout: page \\ntitle: Full Table \\nhas_children: true \\nnav_order: 2 \\npermalink: FullTable.html \\n---\"\n",
    "    )\n",
    "# create file\n",
    "file = fileutils.MarkDownFile(f\"../docs/FullTable/FullTable\")\n",
    "# add content to the file\n",
    "file.append_end(frontmatter.dumps(post))"
   ]
  }
 ],
 "metadata": {
  "kernelspec": {
   "display_name": "data-models-elite-98ShFYwe-py3.11",
   "language": "python",
   "name": "python3"
  },
  "language_info": {
   "codemirror_mode": {
    "name": "ipython",
    "version": 3
   },
   "file_extension": ".py",
   "mimetype": "text/x-python",
   "name": "python",
   "nbconvert_exporter": "python",
   "pygments_lexer": "ipython3",
   "version": "3.11.5"
  },
  "orig_nbformat": 4
 },
 "nbformat": 4,
 "nbformat_minor": 2
}
